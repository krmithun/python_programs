{
  "cells": [
    {
      "cell_type": "markdown",
      "metadata": {
        "id": "view-in-github",
        "colab_type": "text"
      },
      "source": [
        "<a href=\"https://colab.research.google.com/github/krmithun/python_programs/blob/main/Excel_Column_Name_Converter.ipynb\" target=\"_parent\"><img src=\"https://colab.research.google.com/assets/colab-badge.svg\" alt=\"Open In Colab\"/></a>"
      ]
    },
    {
      "cell_type": "code",
      "source": [
        "def get_excel_column_name(n: int) -> str:\n",
        "    \"\"\"\n",
        "    Converts a column number (1-indexed) into its corresponding Excel column name string.\n",
        "\n",
        "    For example, 1 -> 'A', 26 -> 'Z', 27 -> 'AA'.\n",
        "\n",
        "    Args:\n",
        "        n: The column number (a positive integer).\n",
        "\n",
        "    Returns:\n",
        "        The Excel column name as a string.\n",
        "    \"\"\"\n",
        "    if n <= 0:\n",
        "        return \"Error: Column number must be a positive integer.\"\n",
        "\n",
        "    result = \"\"\n",
        "    while n > 0:\n",
        "        # Excel's system is a base-26 representation, but it's 1-indexed.\n",
        "        # To handle this, we convert it to a 0-indexed system temporarily.\n",
        "        # Example: 1 -> A(0), 26 -> Z(25), 27 -> AA (A from 27/26=1, A from 1-1=0).\n",
        "        remainder = (n - 1) % 26\n",
        "\n",
        "        # Convert the remainder (0-25) to a character ('A'-'Z').\n",
        "        # The ASCII value of 'A' is 65.\n",
        "        result = chr(65 + remainder) + result\n",
        "\n",
        "        # Update n for the next iteration.\n",
        "        n = (n - 1) // 26\n",
        "\n",
        "    return result\n",
        "\n",
        "# --- Example Usage ---\n",
        "if __name__ == \"__main__\":\n",
        "    test_cases = [1, 26, 27, 52, 53, 702, 703, 1000]\n",
        "\n",
        "    print(\"--- Excel Column Name Converter ---\")\n",
        "    for number in test_cases:\n",
        "        column_name = get_excel_column_name(number)\n",
        "        print(f\"Column number {number} corresponds to column name: {column_name}\")\n",
        "\n",
        "    print(\"\\n--- User Input Test ---\")\n",
        "    try:\n",
        "        user_input = int(input(\"Enter a column number to convert: \"))\n",
        "        user_column_name = get_excel_column_name(user_input)\n",
        "        print(f\"Column number {user_input} corresponds to column name: {user_column_name}\")\n",
        "    except ValueError:\n",
        "        print(\"Invalid input. Please enter an integer.\")"
      ],
      "outputs": [
        {
          "output_type": "stream",
          "name": "stdout",
          "text": [
            "--- Excel Column Name Converter ---\n",
            "Column number 1 corresponds to column name: A\n",
            "Column number 26 corresponds to column name: Z\n",
            "Column number 27 corresponds to column name: AA\n",
            "Column number 52 corresponds to column name: AZ\n",
            "Column number 53 corresponds to column name: BA\n",
            "Column number 702 corresponds to column name: ZZ\n",
            "Column number 703 corresponds to column name: AAA\n",
            "Column number 1000 corresponds to column name: ALL\n",
            "\n",
            "--- User Input Test ---\n",
            "Enter a column number to convert: 21234\n",
            "Column number 21234 corresponds to column name: AEJR\n"
          ]
        }
      ],
      "execution_count": 1,
      "metadata": {
        "id": "NDIjMn1uxUv3",
        "outputId": "4dc602b1-be96-4ac6-a34d-5ca975a7441d",
        "colab": {
          "base_uri": "https://localhost:8080/"
        }
      }
    },
    {
      "cell_type": "code",
      "source": [],
      "metadata": {
        "id": "2TWT-eGCxh-3"
      },
      "execution_count": null,
      "outputs": []
    }
  ],
  "metadata": {
    "colab": {
      "provenance": [],
      "toc_visible": true,
      "include_colab_link": true
    },
    "kernelspec": {
      "display_name": "Python 3",
      "name": "python3"
    }
  },
  "nbformat": 4,
  "nbformat_minor": 0
}